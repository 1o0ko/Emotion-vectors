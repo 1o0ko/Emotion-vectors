{
 "cells": [
  {
   "cell_type": "markdown",
   "metadata": {},
   "source": [
    "# Open subtitles \n",
    "\n",
    "In this segement we are using opus opensubtitles 2016 parallel corpora"
   ]
  },
  {
   "cell_type": "markdown",
   "metadata": {},
   "source": [
    "## Helper methods"
   ]
  },
  {
   "cell_type": "code",
   "execution_count": 1,
   "metadata": {
    "collapsed": true
   },
   "outputs": [],
   "source": [
    "import urllib2\n",
    "from bs4 import BeautifulSoup\n",
    "\n",
    "def getMovieName(docId):\n",
    "    user_agent = 'Mozilla/5.0 (Windows; U; Windows NT 5.1; en-US; rv:1.9.0.7) Gecko/2009021910 Firefox/3.0.7'\n",
    "    url = \"http://www.opensubtitles.org/en/subtitles/{0}\".format(docId)\n",
    "\n",
    "    headers={'User-Agent':user_agent,} \n",
    "\n",
    "    req = urllib2.Request(url, headers=headers)\n",
    "\n",
    "    try:\n",
    "        page = urllib2.urlopen(req)\n",
    "        \n",
    "        content = page.read()\n",
    "        soup = BeautifulSoup(content, 'html.parser')\n",
    "\n",
    "        text = soup.find('span', {'itemprop': 'name'}).text\n",
    "            \n",
    "        return text[:text.rfind('subtitles')-1]\n",
    "    \n",
    "    except urllib2.HTTPError, e:\n",
    "        print e.fp.read()\n",
    "        return 'no name found'"
   ]
  },
  {
   "cell_type": "code",
   "execution_count": 128,
   "metadata": {
    "collapsed": false
   },
   "outputs": [
    {
     "name": "stdout",
     "output_type": "stream",
     "text": [
      "12 Angry Men\n"
     ]
    }
   ],
   "source": [
    "print getMovieName(3127877)"
   ]
  },
  {
   "cell_type": "markdown",
   "metadata": {},
   "source": [
    "### Mock Tree"
   ]
  },
  {
   "cell_type": "code",
   "execution_count": 3,
   "metadata": {
    "collapsed": false
   },
   "outputs": [],
   "source": [
    "from babelnet.structures import Tree\n",
    "import numpy as np\n",
    "\n",
    "mockTree = Tree(np.array([0., 0.]), [\n",
    "        Tree(np.array([2.,2.])), \n",
    "        Tree(np.array([3.,3.]), [\n",
    "                Tree(np.array([4.,4.])),\n",
    "                Tree(np.array([4.,4.])),\n",
    "                Tree(np.array([4.,4.])), \n",
    "                Tree(np.array([5.,5.]), [\n",
    "                            Tree(np.array([1., 1.0])),\n",
    "                            Tree(np.array([1.,1.]))\n",
    "                        ])\n",
    "            ]), \n",
    "        Tree(np.array([1.,1.]))\n",
    "    ])"
   ]
  },
  {
   "cell_type": "markdown",
   "metadata": {},
   "source": [
    "# Distributed word representation and Semantic Trees\n",
    "\n",
    "Here we are taking advantage of semantic trees created with the help of BabelNet API and distributed word representation obtained by training skip-gram model with negative sampling on both polish and english wikipedia to automatically annotate movie subtitles."
   ]
  },
  {
   "cell_type": "markdown",
   "metadata": {},
   "source": [
    "### Word2Vec"
   ]
  },
  {
   "cell_type": "code",
   "execution_count": 4,
   "metadata": {
    "collapsed": true
   },
   "outputs": [],
   "source": [
    "import numpy as np\n",
    "import os\n",
    "import string\n",
    "\n",
    "from display_sense_tree import load\n",
    "from nltk import word_tokenize\n",
    "from nltk.corpus import stopwords\n",
    "from gensim.models import Word2Vec\n",
    "from sklearn.metrics.pairwise import cosine_similarity"
   ]
  },
  {
   "cell_type": "code",
   "execution_count": 5,
   "metadata": {
    "collapsed": false
   },
   "outputs": [],
   "source": [
    "def getSentenceVector(sentence, params):    \n",
    "    word_list = word_tokenize(sentence)\n",
    "    \n",
    "    model = params['model']\n",
    "    blacklist = params['blacklist']\n",
    "    \n",
    "    filtered_words = [word.lower() for word in word_list if word.lower() not in blacklist]                       \n",
    "    sentence_vector = sum([model[word] for word in filtered_words if word in model])\n",
    "    \n",
    "    return sentence_vector\n",
    "\n",
    "def getVector(tree, params):\n",
    "    word = tree.value.lemma\n",
    "    model = params['model'] \n",
    "    return model[word] if word in model else np.zeros(model.layer1_size)\n",
    "\n",
    "def tree2vector(tree, params, f = getVector):        \n",
    "    \n",
    "    def getvector(tree, current_weight, level):                                     \n",
    "        \n",
    "        tree_value = f(tree, params)\n",
    "        \n",
    "        node_value =  tree_value\n",
    "        node_weight = 1.0 / len(tree.children) if tree.children else 1               \n",
    "\n",
    "        if tree.children:        \n",
    "            for leaf in tree.children:      \n",
    "                node_value += node_weight*getvector(leaf, node_weight, level + 1)\n",
    "        else:\n",
    "            node_value = tree_value   \n",
    "        \n",
    "        return node_value / level\n",
    "    \n",
    "    return getvector(tree, 1, 1)\n",
    "\n",
    "def getEmotionVectors(path, params):\n",
    "    emotions = {}\n",
    "    for file in os.listdir(path):\n",
    "        if file.endswith(\".pickle\"):\n",
    "            tree = load('{0}/{1}'.format(path, file))\n",
    "            emotions[file[:file.find('.')]] = tree2vector(tree, params)\n",
    "\n",
    "    return emotions\n",
    "\n",
    "def closest(sentence_vector, emotions):\n",
    "    \n",
    "    closest = None\n",
    "    best_distane = -float('inf')\n",
    "\n",
    "    for name, emotion_vector in emotions.iteritems():        \n",
    "        current_distance = cosine_similarity([sentence_vector], [emotion_vector])[0][0]    \n",
    "        if best_distane < current_distance:\n",
    "            best_distane = current_distance\n",
    "            closest = name\n",
    "    \n",
    "    return closest"
   ]
  },
  {
   "cell_type": "code",
   "execution_count": 6,
   "metadata": {
    "collapsed": false
   },
   "outputs": [],
   "source": [
    "en_model = Word2Vec.load('/home/models/wiki.en.model')\n",
    "pl_model = Word2Vec.load('/home/models/wiki.pl.model')\n",
    "\n",
    "en_params = {'model': en_model, 'blacklist': set(stopwords.words('english')).union(set(string.punctuation))}\n",
    "pl_params = {'model': pl_model, 'blacklist': set(stopwords.words('polish')).union(set(string.punctuation))}"
   ]
  },
  {
   "cell_type": "markdown",
   "metadata": {},
   "source": [
    "### English test "
   ]
  },
  {
   "cell_type": "code",
   "execution_count": 129,
   "metadata": {
    "collapsed": false
   },
   "outputs": [
    {
     "data": {
      "text/plain": [
       "'fear'"
      ]
     },
     "execution_count": 129,
     "metadata": {},
     "output_type": "execute_result"
    }
   ],
   "source": [
    "import build_emotion_vectors\n",
    "from build_emotion_vectors import getSentenceVector, getEmotionVectors, closest\n",
    "\n",
    "sentence = getSentenceVector(\"To continue , you 've listened to a long and complex case , murder in the first degree .\", en_params)\n",
    "en_emotions = getEmotionVectors('/home/models/babelnet/en/', en_params)\n",
    "\n",
    "closest(sentence, en_emotions)"
   ]
  },
  {
   "cell_type": "markdown",
   "metadata": {},
   "source": [
    "### Polish test"
   ]
  },
  {
   "cell_type": "code",
   "execution_count": 130,
   "metadata": {
    "collapsed": false
   },
   "outputs": [
    {
     "data": {
      "text/plain": [
       "'disgust'"
      ]
     },
     "execution_count": 130,
     "metadata": {},
     "output_type": "execute_result"
    }
   ],
   "source": [
    "sentence = getSentenceVector('Kontynuując , wysłuchali panowie długiego i złożonego procesu dotyczącego morderstwa pierwszego stopnia .', pl_params)\n",
    "pl_emotions = getEmotionVectors('/home/models/babelnet/pl/', pl_params)\n",
    "\n",
    "closest(sentence, pl_emotions)"
   ]
  },
  {
   "cell_type": "markdown",
   "metadata": {},
   "source": [
    "# Open subtitles 2016\n",
    "\n",
    "Now we will test wheter there is a correlation between emotions in emotions discovered in polish and english subtitles"
   ]
  },
  {
   "cell_type": "code",
   "execution_count": 126,
   "metadata": {
    "collapsed": true
   },
   "outputs": [],
   "source": [
    "from babelnet import opensubtitles as o\n",
    "\n",
    "# to reduce the amount of stuff downloaded from the internet we would like to cache as much as possible\n",
    "class Memoize:\n",
    "    def __init__(self, f):\n",
    "        self.f = f\n",
    "        self.memo = {}\n",
    "    def __call__(self, *args):\n",
    "        if not args in self.memo:\n",
    "            self.memo[args] = self.f(*args)\n",
    "        return self.memo[args]\n",
    "\n",
    "o.getParalelSubtittles = Memoize(o.getParalelSubtittles)"
   ]
  },
  {
   "cell_type": "markdown",
   "metadata": {},
   "source": [
    "## Plotting\n",
    "\n",
    "To plot movie plot (pun intended) we would like to nicely accumulate emotions from given \"subtitle stream\""
   ]
  },
  {
   "cell_type": "code",
   "execution_count": 197,
   "metadata": {
    "collapsed": true
   },
   "outputs": [],
   "source": [
    "from collections import Counter\n",
    "\n",
    "class DictCounter(object):\n",
    "    def __init__(self, bufferSize, keys):\n",
    "        self.bufferSize = bufferSize\n",
    "        self.buffer = []\n",
    "        self.results = []\n",
    "        self.keys = keys\n",
    "    \n",
    "    def __flush__(self):\n",
    "        self.results.append(Counter(self.buffer))\n",
    "        self.buffer = []\n",
    "    \n",
    "    def add(self, item):\n",
    "        self.buffer.append(item)\n",
    "        if len(self.buffer) >= self.bufferSize:\n",
    "            self.__flush__()\n",
    "            \n",
    "    def collect(self):\n",
    "        if self.buffer:\n",
    "            self.__flush__()\n",
    "        \n",
    "        data = {key:[] for key in self.keys}\n",
    "        \n",
    "        for counter in self.results:           \n",
    "            normalizing_factor = 1.0 / sum(counter.values())\n",
    "            for key in self.keys:\n",
    "                data[key].append(round(normalizing_factor * counter[key], 2))\n",
    "        \n",
    "        return data       \n",
    "    "
   ]
  },
  {
   "cell_type": "markdown",
   "metadata": {},
   "source": [
    "### Plot\n",
    "\n",
    "This is acctual code for plotting"
   ]
  },
  {
   "cell_type": "code",
   "execution_count": 315,
   "metadata": {
    "collapsed": false
   },
   "outputs": [],
   "source": [
    "%matplotlib inline\n",
    "\n",
    "import matplotlib.pyplot as plt\n",
    "\n",
    "def plotMovie(data_1, data_2, title = 'Movie', color_map = 'plasma', titlesize = 18):\n",
    "\n",
    "    cmap =  plt.cm.get_cmap(color_map)\n",
    "    \n",
    "    f, (ax1, ax2) = plt.subplots(2, 1, figsize=(20, 10))\n",
    "\n",
    "    # positions of the left bar-boundaries\n",
    "    keys_size = float(len(data_1.keys()))\n",
    "    data_size = len(data_1[data_1.keys()[0]])\n",
    "    bar_l = [i+1 for i in range(data_size)] \n",
    "\n",
    "    # positions of the x-axis ticks (center of the bars as bar labels)\n",
    "    tick_pos = [i+(1/2) for i in bar_l] \n",
    "\n",
    "    ###################\n",
    "    ## First Data\n",
    "    ###################    \n",
    "    \n",
    "    cum = None\n",
    "    for (index, (label, series)) in enumerate(data_1.items()):\n",
    "       \n",
    "        # plot bar\n",
    "        ax1.bar(\n",
    "            bar_l, series,\n",
    "            bottom=cum, label=label,\n",
    "            alpha=0.8, color = cmap(index / keys_size),\n",
    "            width=1.0, linewidth = 0.0\n",
    "        )    \n",
    "\n",
    "        cum = series if not cum else [x + y for x, y in zip(cum, series)]\n",
    "        \n",
    "    plt.sca(ax1)\n",
    "    ax1.set_ylabel(\"Frequency\")\n",
    "    ax1.legend(loc='center left', bbox_to_anchor=(1, 0.5))\n",
    "    ax1.set_title('{0} ENG'.format(title), fontsize=titlesize)\n",
    "    plt.xlim([min(tick_pos), max(tick_pos)])\n",
    "    plt.ylim(0, 1)\n",
    "    plt.grid()\n",
    "    \n",
    "    ###################\n",
    "    ## Second Data\n",
    "    ###################\n",
    "    \n",
    "    cum = None\n",
    "    for (index, (label, series)) in enumerate(data_2.items()):\n",
    "\n",
    "        # plot bar\n",
    "        ax2.bar(\n",
    "            bar_l, series,\n",
    "            bottom=cum, label=label,\n",
    "            alpha=0.8, color = cmap(index / keys_size),\n",
    "            width=1.0, linewidth = 0.0\n",
    "        )    \n",
    "\n",
    "        cum = series if not cum else [x + y for x, y in zip(cum, series)]\n",
    "        \n",
    "    plt.sca(ax2)\n",
    "    ax2.set_ylabel(\"Frequency\")\n",
    "    ax2.legend(loc='center left', bbox_to_anchor=(1, 0.5))\n",
    "    ax2.set_title('{0} PL'.format(title), fontsize = titlesize)\n",
    "    plt.xlim([min(tick_pos), max(tick_pos)])\n",
    "    plt.ylim(0, 1)\n",
    "    plt.grid()\n",
    "\n",
    "    plt.show()"
   ]
  },
  {
   "cell_type": "markdown",
   "metadata": {},
   "source": [
    "# This is it!"
   ]
  },
  {
   "cell_type": "code",
   "execution_count": 223,
   "metadata": {
    "collapsed": true
   },
   "outputs": [],
   "source": [
    "import itertools\n",
    "\n",
    "doc = \"en/1957/50083/3127877.xml.gz\"\n",
    "\n",
    "def colsestEmotion(text, emotion_vectors, params):\n",
    "    sentence_vector = getSentenceVector(text, params)\n",
    "    return closest(sentence_vector, emotion_vectors)\n",
    "\n",
    "def extractEmotions(doc):\n",
    "    for en_text, pl_text in o.getParalelSubtittles(doc):\n",
    "        en = (colsestEmotion(en_text, en_emotions, en_params), en_text)\n",
    "        pl = (colsestEmotion(pl_text, pl_emotions, pl_params), pl_text)\n",
    "        \n",
    "        yield en, pl"
   ]
  },
  {
   "cell_type": "code",
   "execution_count": 312,
   "metadata": {
    "collapsed": false
   },
   "outputs": [],
   "source": [
    "buffLimit = 10\n",
    "\n",
    "en_acc = DictCounter(buffLimit, en_emotions.keys())\n",
    "pl_acc = DictCounter(buffLimit, pl_emotions.keys())\n",
    "\n",
    "for en, pl in itertools.islice(extractEmotions(doc), 0, None, 1):\n",
    "    em_en, txt_en = en \n",
    "    em_pl, txt_pl = pl\n",
    "\n",
    "    en_acc.add(em_en)\n",
    "    pl_acc.add(em_pl)"
   ]
  },
  {
   "cell_type": "code",
   "execution_count": 313,
   "metadata": {
    "collapsed": true
   },
   "outputs": [],
   "source": [
    "data_en = en_acc.collect()\n",
    "data_pl = pl_acc.collect()"
   ]
  },
  {
   "cell_type": "code",
   "execution_count": 316,
   "metadata": {
    "collapsed": false
   },
   "outputs": [
    {
     "data": {
      "image/png": "[encoded data removed]",
      "text/plain": [
       "<matplotlib.figure.Figure at 0x7f462c436e10>"
      ]
     },
     "metadata": {},
     "output_type": "display_data"
    }
   ],
   "source": [
    "plotMovie(data_en, data_pl, '12 Angry Men', titlesize = 16)"
   ]
  },
  {
   "cell_type": "code",
   "execution_count": null,
   "metadata": {
    "collapsed": true
   },
   "outputs": [],
   "source": []
  }
 ],
 "metadata": {
  "kernelspec": {
   "display_name": "Python 2",
   "language": "python",
   "name": "python2"
  },
  "language_info": {
   "codemirror_mode": {
    "name": "ipython",
    "version": 2
   },
   "file_extension": ".py",
   "mimetype": "text/x-python",
   "name": "python",
   "nbconvert_exporter": "python",
   "pygments_lexer": "ipython2",
   "version": "2.7.11"
  }
 },
 "nbformat": 4,
 "nbformat_minor": 0
}
