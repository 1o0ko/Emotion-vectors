{
 "cells": [
  {
   "cell_type": "markdown",
   "metadata": {},
   "source": [
    "## Let's get down to bussiness"
   ]
  },
  {
   "cell_type": "markdown",
   "metadata": {},
   "source": [
    "### Setup basic properties"
   ]
  },
  {
   "cell_type": "code",
   "execution_count": 1,
   "metadata": {
    "collapsed": true
   },
   "outputs": [],
   "source": [
    "lang = 'EN'\n",
    "key = 'b625533b-a45f-428a-b953-a9c9991ef23e'"
   ]
  },
  {
   "cell_type": "markdown",
   "metadata": {},
   "source": [
    "### We will find tree for the following emotions"
   ]
  },
  {
   "cell_type": "code",
   "execution_count": 19,
   "metadata": {
    "collapsed": true
   },
   "outputs": [],
   "source": [
    "from babelnet import utils\n",
    "from babelnet.structures import Sense, Tree\n",
    "from build_sense_trees import buildSenseTree, save, load"
   ]
  },
  {
   "cell_type": "code",
   "execution_count": 3,
   "metadata": {
    "collapsed": true
   },
   "outputs": [],
   "source": [
    "emotions = ['love', 'happiness', 'surprise', 'emotionless', 'sad', 'disgust', 'anger', 'fear']"
   ]
  },
  {
   "cell_type": "code",
   "execution_count": 9,
   "metadata": {
    "collapsed": false
   },
   "outputs": [
    {
     "name": "stdout",
     "output_type": "stream",
     "text": [
      "Getting synsetIds for love\n",
      "Building sense trees...\n",
      "Building english tree...\n",
      "Building polish tree..\n",
      "Done!\n",
      "Getting synsetIds for happiness\n",
      "Building sense trees...\n",
      "Building english tree...\n",
      "Building polish tree..\n",
      "Done!\n",
      "Getting synsetIds for surprise\n",
      "Building sense trees...\n",
      "Building english tree...\n",
      "Building polish tree..\n",
      "Done!\n",
      "Getting synsetIds for emotionless\n",
      "Building sense trees...\n",
      "Building english tree...\n",
      "Building polish tree..\n",
      "Done!\n",
      "Getting synsetIds for sad\n",
      "Building sense trees...\n",
      "Building english tree...\n",
      "Building polish tree..\n",
      "Done!\n",
      "Getting synsetIds for disgust\n",
      "Building sense trees...\n",
      "Building english tree...\n",
      "Building polish tree..\n",
      "Done!\n",
      "Getting synsetIds for anger\n",
      "Building sense trees...\n",
      "Building english tree...\n",
      "Building polish tree..\n",
      "Done!\n",
      "Getting synsetIds for fear\n",
      "Building sense trees...\n",
      "Building english tree...\n",
      "Building polish tree..\n",
      "Done!\n"
     ]
    }
   ],
   "source": [
    "MODEL_PATH = '/home/models/babelnet/'\n",
    "\n",
    "trees_en = {}\n",
    "trees_pl = {}\n",
    "tree_depth = 3\n",
    "for emotion in emotions:\n",
    "    print 'Getting synsetIds for ' + emotion\n",
    "    id = utils.getSynsetIds(emotion, 'EN', key)[0]\n",
    "    \n",
    "    print 'Building sense trees...'\n",
    "    sense = Sense(id, emotion)   \n",
    "    \n",
    "    print 'Building english tree...'\n",
    "    trees_en[emotion] = buildSenseTree(Tree(sense), 'EN', key, 3)\n",
    "    \n",
    "    print 'Saving english tree'\n",
    "    save(trees_en[emotion], MODEL_PATH + \"EN/\" emotion + '.pickle')\n",
    "    \n",
    "    print 'Building polish tree..'\n",
    "    trees_pl[emotion] = buildSenseTree(Tree(sense), 'PL', key, 3)\n",
    "    \n",
    "    print 'Done!'"
   ]
  },
  {
   "cell_type": "code",
   "execution_count": null,
   "metadata": {
    "collapsed": true
   },
   "outputs": [],
   "source": []
  }
 ],
 "metadata": {
  "kernelspec": {
   "display_name": "Python 2",
   "language": "python",
   "name": "python2"
  },
  "language_info": {
   "codemirror_mode": {
    "name": "ipython",
    "version": 2
   },
   "file_extension": ".py",
   "mimetype": "text/x-python",
   "name": "python",
   "nbconvert_exporter": "python",
   "pygments_lexer": "ipython2",
   "version": "2.7.11"
  }
 },
 "nbformat": 4,
 "nbformat_minor": 0
}
