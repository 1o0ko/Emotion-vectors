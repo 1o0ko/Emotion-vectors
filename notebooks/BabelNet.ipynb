{
 "cells": [
  {
   "cell_type": "markdown",
   "metadata": {},
   "source": [
    "## Let's get down to bussiness"
   ]
  },
  {
   "cell_type": "markdown",
   "metadata": {},
   "source": [
    "### Setup basic properties"
   ]
  },
  {
   "cell_type": "code",
   "execution_count": 1,
   "metadata": {
    "collapsed": true
   },
   "outputs": [],
   "source": [
    "lang = 'EN'\n",
    "key = 'find-your-own-key'"
   ]
  },
  {
   "cell_type": "markdown",
   "metadata": {},
   "source": [
    "### We will find tree for the following emotions"
   ]
  },
  {
   "cell_type": "code",
   "execution_count": 19,
   "metadata": {
    "collapsed": true
   },
   "outputs": [],
   "source": [
    "from babelnet import utils\n",
    "from babelnet.structures import Sense, Tree\n",
    "from build_sense_trees import buildSenseTree, save, load"
   ]
  },
  {
   "cell_type": "code",
   "execution_count": 3,
   "metadata": {
    "collapsed": true
   },
   "outputs": [],
   "source": [
    "emotions = ['love', 'happiness', 'surprise', 'emotionless', 'sad', 'disgust', 'anger', 'fear']"
   ]
  },
  {
   "cell_type": "code",
   "execution_count": 33,
   "metadata": {
    "collapsed": false
   },
   "outputs": [
    {
     "name": "stdout",
     "output_type": "stream",
     "text": [
      "Getting synsetIds for love\n",
      "Building sense trees...\n",
      "Building english tree...\n",
      "Saving english tree\n",
      "Building polish tree..\n",
      "Saving polish tree\n",
      "Done!\n",
      "Getting synsetIds for happiness\n",
      "Building sense trees...\n",
      "Building english tree...\n",
      "Saving english tree\n",
      "Building polish tree..\n",
      "Saving polish tree\n",
      "Done!\n",
      "Getting synsetIds for surprise\n",
      "Building sense trees...\n",
      "Building english tree...\n",
      "Saving english tree\n",
      "Building polish tree..\n",
      "Saving polish tree\n",
      "Done!\n",
      "Getting synsetIds for emotionless\n",
      "Building sense trees...\n",
      "Building english tree...\n",
      "Saving english tree\n",
      "Building polish tree..\n",
      "Saving polish tree\n",
      "Done!\n",
      "Getting synsetIds for sad\n",
      "Building sense trees...\n",
      "Building english tree...\n",
      "Saving english tree\n",
      "Building polish tree..\n",
      "Saving polish tree\n",
      "Done!\n",
      "Getting synsetIds for disgust\n",
      "Building sense trees...\n",
      "Building english tree...\n",
      "Saving english tree\n",
      "Building polish tree..\n",
      "Saving polish tree\n",
      "Done!\n",
      "Getting synsetIds for anger\n",
      "Building sense trees...\n",
      "Building english tree...\n",
      "Saving english tree\n",
      "Building polish tree..\n",
      "Saving polish tree\n",
      "Done!\n",
      "Getting synsetIds for fear\n",
      "Building sense trees...\n",
      "Building english tree...\n",
      "Saving english tree\n",
      "Building polish tree..\n",
      "Saving polish tree\n",
      "Done!\n"
     ]
    }
   ],
   "source": [
    "MODEL_PATH = '/home/models/babelnet/'\n",
    "\n",
    "trees_en = {}\n",
    "trees_pl = {}\n",
    "tree_depth = 3\n",
    "\n",
    "for emotion in emotions:\n",
    "    print 'Getting synsetIds for ' + emotion\n",
    "    id = utils.getSynsetIds(emotion, 'EN', key)[0]\n",
    "    \n",
    "    print 'Building sense trees...'\n",
    "    sense = Sense(id, emotion)   \n",
    "    \n",
    "    print 'Building english tree...'\n",
    "    trees_en[emotion] = buildSenseTree(Tree(sense), 'EN', key, 3)\n",
    "    \n",
    "    print 'Saving english tree'\n",
    "    save(trees_en[emotion], MODEL_PATH + \"en/\" + emotion + '.pickle')\n",
    "    \n",
    "    print 'Building polish tree..'\n",
    "    trees_pl[emotion] = buildSenseTree(Tree(sense), 'PL', key, 3)\n",
    "    \n",
    "    print 'Saving polish tree'\n",
    "    save(trees_pl[emotion], MODEL_PATH + \"pl/\" + emotion + '.pickle')\n",
    "    \n",
    "    print 'Done!'"
   ]
  },
  {
   "cell_type": "code",
   "execution_count": 38,
   "metadata": {
    "collapsed": false
   },
   "outputs": [
    {
     "name": "stdout",
     "output_type": "stream",
     "text": [
      "bn:00027570n disgust 1 1\n",
      "\tbn:00057035n nausea 0.51613 0.17801\n",
      "\tbn:00000298n abhorrence 0.46575 0.16063\n",
      "\tbn:00044817n repugnance 0.42308 0.14591\n",
      "\n"
     ]
    }
   ],
   "source": [
    "print trees_en['disgust']"
   ]
  },
  {
   "cell_type": "code",
   "execution_count": 39,
   "metadata": {
    "collapsed": false
   },
   "outputs": [
    {
     "name": "stdout",
     "output_type": "stream",
     "text": [
      "bn:00027570n disgust 1 1\n",
      "\tbn:00057035n obrzydzenie 0.51613 0.17801\n",
      "\tbn:00000298n abominacja 0.46575 0.16063\n",
      "\tbn:00044817n wstręt 0.42308 0.14591\n",
      "\n"
     ]
    }
   ],
   "source": [
    "print trees_pl['disgust']"
   ]
  }
 ],
 "metadata": {
  "kernelspec": {
   "display_name": "Python 2",
   "language": "python",
   "name": "python2"
  },
  "language_info": {
   "codemirror_mode": {
    "name": "ipython",
    "version": 2
   },
   "file_extension": ".py",
   "mimetype": "text/x-python",
   "name": "python",
   "nbconvert_exporter": "python",
   "pygments_lexer": "ipython2",
   "version": "2.7.11"
  }
 },
 "nbformat": 4,
 "nbformat_minor": 0
}
